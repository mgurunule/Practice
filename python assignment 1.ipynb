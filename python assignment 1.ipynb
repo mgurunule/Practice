{
 "cells": [
  {
   "cell_type": "markdown",
   "metadata": {},
   "source": [
    "1. Write a program which will find all such numbers which are divisible by 7 but are not a multiple of 5, between 2000 and 3200 (both included). The numbers obtained should be printed in a comma-separated sequence on a single line. "
   ]
  },
  {
   "cell_type": "code",
   "execution_count": 10,
   "metadata": {},
   "outputs": [
    {
     "name": "stdout",
     "output_type": "stream",
     "text": [
      "2002,2009,2016,2023,2037,2044,2051,2058,2072,2079,2086,2093,2107,2114,2121,2128,2142,2149,2156,2163,2177,2184,2191,2198,2212,2219,2226,2233,2247,2254,2261,2268,2282,2289,2296,2303,2317,2324,2331,2338,2352,2359,2366,2373,2387,2394,2401,2408,2422,2429,2436,2443,2457,2464,2471,2478,2492,2499,2506,2513,2527,2534,2541,2548,2562,2569,2576,2583,2597,2604,2611,2618,2632,2639,2646,2653,2667,2674,2681,2688,2702,2709,2716,2723,2737,2744,2751,2758,2772,2779,2786,2793,2807,2814,2821,2828,2842,2849,2856,2863,2877,2884,2891,2898,2912,2919,2926,2933,2947,2954,2961,2968,2982,2989,2996,3003,3017,3024,3031,3038,3052,3059,3066,3073,3087,3094,3101,3108,3122,3129,3136,3143,3157,3164,3171,3178,3192,3199"
     ]
    }
   ],
   "source": [
    "s = []\n",
    "# finding number divisible by 7 but not a multiple of 5 b/t 2000 and 3200\n",
    "com = 1\n",
    "for i in range(2000,3201):\n",
    "\n",
    "    if ( i % 7 == 0 ) and (i % 5 != 0):\n",
    "        if com == 1:\n",
    "            pass\n",
    "        else:\n",
    "            print(\",\",end='')\n",
    "        com=2\n",
    "        print(i,end='') "
   ]
  },
  {
   "cell_type": "markdown",
   "metadata": {},
   "source": [
    "2. Write a Python program to accept the user's first and last name and then getting them printed in the the reverse order with a space between first name and last name"
   ]
  },
  {
   "cell_type": "code",
   "execution_count": 2,
   "metadata": {},
   "outputs": [
    {
     "name": "stdout",
     "output_type": "stream",
     "text": [
      "Enter First Name First\n",
      "Enter Last Name Last\n",
      "Last First\n",
      "Last First\n",
      "tsaL tsriF\n",
      "tsriF tsaL\n"
     ]
    }
   ],
   "source": [
    "first_name = input(\"Enter First Name \")\n",
    "last_name  = input(\"Enter Last Name \")\n",
    "#-------------------------------------------------------------\n",
    "# if the expected output is \"last_name first_name\"\n",
    "print(last_name+\" \"+first_name)   # method 1\n",
    "print(\"{0} {1}\".format(last_name,first_name))  # method 2\n",
    "#-----------------------------------------------------------\n",
    "\n",
    "# if the expected output is eman_tsal eman_tsrif \n",
    "print(\"{0} {1}\".format(last_name[::-1],first_name[::-1]))  # method 1\n",
    "\n",
    "\n",
    "# if the expected output is eman_tsrif eman_tsal\n",
    "print(\"{0} {1}\".format(first_name[::-1],last_name[::-1]))  # method 1\n"
   ]
  },
  {
   "cell_type": "markdown",
   "metadata": {},
   "source": [
    "3.Write a Python program to find the volume of a sphere with diameter 12 cm.  \n",
    " \n",
    "Formula: V=4/3 * π * r 3 "
   ]
  },
  {
   "cell_type": "code",
   "execution_count": 3,
   "metadata": {},
   "outputs": [
    {
     "name": "stdout",
     "output_type": "stream",
     "text": [
      "7238.229473870882\n"
     ]
    }
   ],
   "source": [
    "import numpy as np\n",
    "\n",
    "def volume_of_sphere(r):\n",
    "    \"\"\" This function will calculate the volume of shpere\"\"\"\n",
    "    return ((4/3 ) * np.pi * (r**3))\n",
    "\n",
    "print(volume_of_sphere(12))\n"
   ]
  },
  {
   "cell_type": "code",
   "execution_count": null,
   "metadata": {},
   "outputs": [],
   "source": []
  }
 ],
 "metadata": {
  "kernelspec": {
   "display_name": "Python 3",
   "language": "python",
   "name": "python3"
  },
  "language_info": {
   "codemirror_mode": {
    "name": "ipython",
    "version": 3
   },
   "file_extension": ".py",
   "mimetype": "text/x-python",
   "name": "python",
   "nbconvert_exporter": "python",
   "pygments_lexer": "ipython3",
   "version": "3.7.6"
  }
 },
 "nbformat": 4,
 "nbformat_minor": 2
}
